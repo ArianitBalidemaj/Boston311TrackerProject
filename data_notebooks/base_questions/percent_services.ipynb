{
 "cells": [
  {
   "cell_type": "markdown",
   "metadata": {},
   "source": [
    "## What % of service requests are closed (CLOSED_DT or CASE_STATUS) vs. no data (CASE_STATUS = null) vs. unresolved (CASE_STATUS = open)?"
   ]
  },
  {
   "cell_type": "markdown",
   "metadata": {},
   "source": [
    "\n",
    "\n",
    "#### First we need to import the data and clean it up a bit. We will be using the data for total years from 2011-2023."
   ]
  },
  {
   "cell_type": "code",
   "execution_count": 1,
   "metadata": {},
   "outputs": [],
   "source": [
    "# Import libraries we need\n",
    "import pandas as pd\n",
    "import numpy as np\n",
    "import matplotlib.pyplot as plt\n",
    "import seaborn as sns\n",
    "import os\n",
    "\n",
    "# Some global variables\n",
    "years = ['2011', '2012', '2013', '2014', '2015', '2016', '2017', '2018','2019','2020','2021','2022','2023']\n",
    "int_years = [2011, 2012, 2013, 2014, 2015, 2016, 2017, 2018,2019,2020,2021,2022,2023]"
   ]
  },
  {
   "cell_type": "code",
   "execution_count": 2,
   "metadata": {},
   "outputs": [
    {
     "data": {
      "text/html": [
       "<div>\n",
       "<style scoped>\n",
       "    .dataframe tbody tr th:only-of-type {\n",
       "        vertical-align: middle;\n",
       "    }\n",
       "\n",
       "    .dataframe tbody tr th {\n",
       "        vertical-align: top;\n",
       "    }\n",
       "\n",
       "    .dataframe thead th {\n",
       "        text-align: right;\n",
       "    }\n",
       "</style>\n",
       "<table border=\"1\" class=\"dataframe\">\n",
       "  <thead>\n",
       "    <tr style=\"text-align: right;\">\n",
       "      <th></th>\n",
       "      <th>case_status</th>\n",
       "      <th>closed_dt</th>\n",
       "      <th>open_dt</th>\n",
       "    </tr>\n",
       "  </thead>\n",
       "  <tbody>\n",
       "    <tr>\n",
       "      <th>0</th>\n",
       "      <td>Closed</td>\n",
       "      <td>2011-07-01 01:06:58</td>\n",
       "      <td>2011-06-30 21:32:33</td>\n",
       "    </tr>\n",
       "    <tr>\n",
       "      <th>1</th>\n",
       "      <td>Closed</td>\n",
       "      <td>2011-07-01 02:12:43</td>\n",
       "      <td>2011-06-30 22:18:31</td>\n",
       "    </tr>\n",
       "    <tr>\n",
       "      <th>2</th>\n",
       "      <td>Closed</td>\n",
       "      <td>2011-08-01 11:21:46</td>\n",
       "      <td>2011-06-30 22:28:04</td>\n",
       "    </tr>\n",
       "    <tr>\n",
       "      <th>3</th>\n",
       "      <td>Closed</td>\n",
       "      <td>2011-07-22 12:13:45</td>\n",
       "      <td>2011-06-30 23:03:48</td>\n",
       "    </tr>\n",
       "    <tr>\n",
       "      <th>4</th>\n",
       "      <td>Closed</td>\n",
       "      <td>2011-07-01 02:12:38</td>\n",
       "      <td>2011-06-30 23:12:31</td>\n",
       "    </tr>\n",
       "  </tbody>\n",
       "</table>\n",
       "</div>"
      ],
      "text/plain": [
       "  case_status            closed_dt              open_dt\n",
       "0      Closed  2011-07-01 01:06:58  2011-06-30 21:32:33\n",
       "1      Closed  2011-07-01 02:12:43  2011-06-30 22:18:31\n",
       "2      Closed  2011-08-01 11:21:46  2011-06-30 22:28:04\n",
       "3      Closed  2011-07-22 12:13:45  2011-06-30 23:03:48\n",
       "4      Closed  2011-07-01 02:12:38  2011-06-30 23:12:31"
      ]
     },
     "execution_count": 2,
     "metadata": {},
     "output_type": "execute_result"
    }
   ],
   "source": [
    "# Cleaning the data a bit:\n",
    "\n",
    "# Read in the data\n",
    "df = pd.read_csv('../../data/data_total2.csv', low_memory=False)\n",
    "\n",
    "# Add the columns we only need to a new variable, only get the column we need which is CASE_STATUS and CLOSED_DT\n",
    "\n",
    "new_df = df[['case_status', 'closed_dt', 'open_dt']]\n",
    "\n",
    "# Show the head of the new_df\n",
    "new_df.head()"
   ]
  },
  {
   "cell_type": "markdown",
   "metadata": {},
   "source": [
    "\n",
    "\n",
    "#### Creating a dataframe with the breakdown of the date and the case status. We will be using the CASE_STATUS column to determine if the case is open or closed."
   ]
  },
  {
   "cell_type": "code",
   "execution_count": 46,
   "metadata": {},
   "outputs": [
    {
     "data": {
      "text/html": [
       "<div>\n",
       "<style scoped>\n",
       "    .dataframe tbody tr th:only-of-type {\n",
       "        vertical-align: middle;\n",
       "    }\n",
       "\n",
       "    .dataframe tbody tr th {\n",
       "        vertical-align: top;\n",
       "    }\n",
       "\n",
       "    .dataframe thead th {\n",
       "        text-align: right;\n",
       "    }\n",
       "</style>\n",
       "<table border=\"1\" class=\"dataframe\">\n",
       "  <thead>\n",
       "    <tr style=\"text-align: right;\">\n",
       "      <th></th>\n",
       "      <th>case_status</th>\n",
       "      <th>closed_dt</th>\n",
       "      <th>open_dt</th>\n",
       "      <th>year</th>\n",
       "    </tr>\n",
       "  </thead>\n",
       "  <tbody>\n",
       "    <tr>\n",
       "      <th>0</th>\n",
       "      <td>Closed</td>\n",
       "      <td>2011-07-01 01:06:58</td>\n",
       "      <td>2011-06-30 21:32:33</td>\n",
       "      <td>2011</td>\n",
       "    </tr>\n",
       "    <tr>\n",
       "      <th>1</th>\n",
       "      <td>Closed</td>\n",
       "      <td>2011-07-01 02:12:43</td>\n",
       "      <td>2011-06-30 22:18:31</td>\n",
       "      <td>2011</td>\n",
       "    </tr>\n",
       "    <tr>\n",
       "      <th>2</th>\n",
       "      <td>Closed</td>\n",
       "      <td>2011-08-01 11:21:46</td>\n",
       "      <td>2011-06-30 22:28:04</td>\n",
       "      <td>2011</td>\n",
       "    </tr>\n",
       "    <tr>\n",
       "      <th>3</th>\n",
       "      <td>Closed</td>\n",
       "      <td>2011-07-22 12:13:45</td>\n",
       "      <td>2011-06-30 23:03:48</td>\n",
       "      <td>2011</td>\n",
       "    </tr>\n",
       "    <tr>\n",
       "      <th>4</th>\n",
       "      <td>Closed</td>\n",
       "      <td>2011-07-01 02:12:38</td>\n",
       "      <td>2011-06-30 23:12:31</td>\n",
       "      <td>2011</td>\n",
       "    </tr>\n",
       "  </tbody>\n",
       "</table>\n",
       "</div>"
      ],
      "text/plain": [
       "  case_status           closed_dt             open_dt  year\n",
       "0      Closed 2011-07-01 01:06:58 2011-06-30 21:32:33  2011\n",
       "1      Closed 2011-07-01 02:12:43 2011-06-30 22:18:31  2011\n",
       "2      Closed 2011-08-01 11:21:46 2011-06-30 22:28:04  2011\n",
       "3      Closed 2011-07-22 12:13:45 2011-06-30 23:03:48  2011\n",
       "4      Closed 2011-07-01 02:12:38 2011-06-30 23:12:31  2011"
      ]
     },
     "execution_count": 46,
     "metadata": {},
     "output_type": "execute_result"
    }
   ],
   "source": [
    "# Suppress the error messages for now\n",
    "pd.options.mode.chained_assignment = None  # default='warn'\n",
    "\n",
    "# Convert the closed_dt column to a datetime object\n",
    "new_df['closed_dt'] = pd.to_datetime(new_df['closed_dt'])\n",
    "\n",
    "# Convert the open_dt column to a datetime object\n",
    "new_df['open_dt'] = pd.to_datetime(new_df['open_dt'])\n",
    "\n",
    "# Break them down into their respective parts of open years\n",
    "new_df['year'] = new_df['open_dt'].dt.year\n",
    "\n",
    "new_df.head()"
   ]
  },
  {
   "cell_type": "markdown",
   "metadata": {},
   "source": [
    "\n",
    "### Checking the percent of open cases vs closed cases and null cases for their case status.\n"
   ]
  },
  {
   "cell_type": "markdown",
   "metadata": {},
   "source": [
    "#### First find open cases status data and then find the percent of open cases."
   ]
  },
  {
   "cell_type": "code",
   "execution_count": 47,
   "metadata": {},
   "outputs": [
    {
     "name": "stdout",
     "output_type": "stream",
     "text": [
      "Percent of open cases: 7.256478277232631% on average from 2011-2023\n",
      "\n"
     ]
    },
    {
     "data": {
      "image/png": "[encoded data removed]",
      "text/plain": [
       "<Figure size 720x360 with 1 Axes>"
      ]
     },
     "metadata": {
      "needs_background": "light"
     },
     "output_type": "display_data"
    }
   ],
   "source": [
    "# First calculate the percent of open cases in general out of all the years\n",
    "# Get the total number of cases\n",
    "total_cases = new_df.shape[0]\n",
    "\n",
    "# Get the number of open cases\n",
    "open_cases = new_df[new_df['case_status'] == 'Open'].shape[0]\n",
    "\n",
    "# Calculate the percent of open cases\n",
    "percent_open_cases = open_cases / total_cases * 100\n",
    "\n",
    "print(f'Percent of open cases: {percent_open_cases}% on average from 2011-2023')\n",
    "print()\n",
    "\n",
    "# Now calculate the percent of open cases per year\n",
    "# Get the total number of cases per year\n",
    "total_cases_per_year = new_df.groupby('year').size()\n",
    "total_cases_per_year = total_cases_per_year.tolist()\n",
    "\n",
    "# Get the number of open cases per year\n",
    "open_cases_per_year = new_df[new_df['case_status'] == 'Open'].groupby('year').size()\n",
    "open_cases_per_year = open_cases_per_year.tolist()\n",
    "\n",
    "# Calculate the percent of open cases per year\n",
    "percent_open_cases_per_year = []\n",
    "for i in range(len(total_cases_per_year)):\n",
    "    percent_open_cases_per_year.append(open_cases_per_year[i] / total_cases_per_year[i] * 100)\n",
    "\n",
    "\n",
    "# Plot the percent of open cases per year\n",
    "plt.figure(figsize=(10, 5))\n",
    "plt.plot(int_years, percent_open_cases_per_year)\n",
    "plt.title('Percent of Open Cases Per Year')\n",
    "plt.xlabel('Year')\n",
    "plt.ylabel('Percent of Open Cases')\n",
    "plt.show()"
   ]
  },
  {
   "cell_type": "markdown",
   "metadata": {},
   "source": [
    "The percent of open cases increases and decreases throughout the years but at the end has an all time high of open cases for 2023. 2023 is not finished and could be the reasoning for such high open cases. "
   ]
  },
  {
   "cell_type": "markdown",
   "metadata": {},
   "source": [
    "#### Next, the examining the closed cases data and then finding the percent of closed cases."
   ]
  },
  {
   "cell_type": "code",
   "execution_count": 48,
   "metadata": {},
   "outputs": [
    {
     "name": "stdout",
     "output_type": "stream",
     "text": [
      "Percent of closed cases: 92.74352172276737% on average from 2011-2023\n",
      "\n",
      "[54682, 111924, 136298, 136184, 194994, 203679, 238675, 243238, 235700, 230947, 254072, 255570, 229930]\n",
      "Percent of closed cases in 2011: 93.85534310528303%\n",
      "Percent of closed cases in 2012: 94.77695356162992%\n",
      "Percent of closed cases in 2013: 95.57394292125377%\n",
      "Percent of closed cases in 2014: 92.12826410499257%\n",
      "Percent of closed cases in 2015: 92.81760066259525%\n",
      "Percent of closed cases in 2016: 94.06285358025261%\n",
      "Percent of closed cases in 2017: 94.98784171545236%\n",
      "Percent of closed cases in 2018: 92.57463425030828%\n",
      "Percent of closed cases in 2019: 90.99613160272101%\n",
      "Percent of closed cases in 2020: 91.92944885400163%\n",
      "Percent of closed cases in 2021: 92.80016363264471%\n",
      "Percent of closed cases in 2022: 92.39729717027177%\n",
      "Percent of closed cases in 2023: 89.99956943623546%\n"
     ]
    },
    {
     "data": {
      "image/png": "[encoded data removed]",
      "text/plain": [
       "<Figure size 720x360 with 1 Axes>"
      ]
     },
     "metadata": {
      "needs_background": "light"
     },
     "output_type": "display_data"
    }
   ],
   "source": [
    "# Closed Cases amount:\n",
    "closed_cases = new_df[new_df['case_status'] == 'Closed'].shape[0]\n",
    "\n",
    "# Calculate the percent of closed cases\n",
    "percent_closed_cases = closed_cases / total_cases * 100\n",
    "\n",
    "print(f'Percent of closed cases: {percent_closed_cases}% on average from 2011-2023')\n",
    "print()\n",
    "\n",
    "# Now calculate the percent of closed cases per year\n",
    "# Get the number of closed cases per year\n",
    "closed_cases_per_year = new_df[new_df['case_status'] == 'Closed'].groupby('year').size()\n",
    "closed_cases_per_year = closed_cases_per_year.tolist()\n",
    "\n",
    "# Calculate the percent of closed cases per year\n",
    "print(closed_cases_per_year)\n",
    "percent_closed_cases_per_year = (np.array(closed_cases_per_year) / total_cases_per_year) * 100\n",
    "\n",
    "for i in range(len(total_cases_per_year)):\n",
    "    print(f'Percent of closed cases in {years[i]}: {percent_closed_cases_per_year[i]}%')\n",
    "\n",
    "# Plot the percent of closed cases per year\n",
    "plt.figure(figsize=(10, 5))\n",
    "plt.plot(int_years, percent_closed_cases_per_year)\n",
    "plt.title('Percent of Closed Cases Per Year')\n",
    "plt.xlabel('Year')\n",
    "plt.ylabel('Percent of Closed Cases')\n",
    "plt.show()"
   ]
  },
  {
   "cell_type": "markdown",
   "metadata": {},
   "source": [
    "Based on this plot, we can say that the percent of closed cases increased throughout the years but also declined depending on the year. This could be due to the various types of cases per year that may have not been closed due to it being harder to close than others."
   ]
  },
  {
   "cell_type": "markdown",
   "metadata": {},
   "source": [
    "#### Finally, examining the null cases data and then finding the percent of null cases."
   ]
  },
  {
   "cell_type": "code",
   "execution_count": 49,
   "metadata": {},
   "outputs": [
    {
     "name": "stdout",
     "output_type": "stream",
     "text": [
      "Number of NA values in the case_status column: 0 on average from 2011-2023\n",
      "Percent of NA values in the case_status column: 0.0% on average from 2011-2023\n"
     ]
    }
   ],
   "source": [
    "#Finding the number of NA values in the case_status column\n",
    "\n",
    "# Get the number of NA values in the case_status column\n",
    "na_values = new_df[new_df['case_status'].isna()].shape[0]\n",
    "print(f'Number of NA values in the case_status column: {na_values} on average from 2011-2023')\n",
    "\n",
    "# Calculate the percent of NA values in the case_status column\n",
    "percent_na_values = na_values / total_cases * 100\n",
    "\n",
    "print(f'Percent of NA values in the case_status column: {percent_na_values}% on average from 2011-2023')"
   ]
  },
  {
   "cell_type": "markdown",
   "metadata": {},
   "source": [
    "The percent of Na values is at a constant 0 throughout all the years. This makes sense because a case can be either open or closed and therefore there is no other option for the case status. If Na value were to exist, it would be due to error in the data."
   ]
  },
  {
   "cell_type": "markdown",
   "metadata": {},
   "source": [
    "### Understanding Volume of Cases"
   ]
  },
  {
   "cell_type": "markdown",
   "metadata": {},
   "source": [
    "#### Now we will be looking at the volume of cases closed vs open vs null."
   ]
  },
  {
   "cell_type": "code",
   "execution_count": 50,
   "metadata": {},
   "outputs": [
    {
     "name": "stdout",
     "output_type": "stream",
     "text": [
      "The total number of cases is: 2723525 cases\n",
      "The total number of open cases is: 197632 cases\n",
      "The total number of closed cases is: 2525893 cases\n",
      "The total number of NA values in the case_status column is: 0 cases\n"
     ]
    },
    {
     "data": {
      "image/png": "[encoded data removed]",
      "text/plain": [
       "<Figure size 720x360 with 1 Axes>"
      ]
     },
     "metadata": {
      "needs_background": "light"
     },
     "output_type": "display_data"
    }
   ],
   "source": [
    "# Plot the graph of volume of cases closed vs open vs NA\n",
    "\n",
    "total_cases = new_df.shape[0]\n",
    "\n",
    "print(f\"The total number of cases is: {total_cases} cases\")\n",
    "print(f\"The total number of open cases is: {open_cases} cases\")\n",
    "print(f\"The total number of closed cases is: {closed_cases} cases\")\n",
    "print(f\"The total number of NA values in the case_status column is: {na_values} cases\")\n",
    "\n",
    "plt.figure(figsize=(10, 5))\n",
    "plt.bar(['Closed', 'Open', 'NA'], [closed_cases, open_cases, na_values], color=['green', 'red', 'blue'])\n",
    "plt.title('Volume of Cases Closed vs Open vs NA')\n",
    "plt.xlabel('Case Status')\n",
    "plt.ylabel('Volume of Cases')\n",
    "plt.show()"
   ]
  },
  {
   "cell_type": "markdown",
   "metadata": {},
   "source": [
    "#### Looking at the volume of open vs closed cases throughout the years."
   ]
  },
  {
   "cell_type": "code",
   "execution_count": 51,
   "metadata": {},
   "outputs": [
    {
     "name": "stdout",
     "output_type": "stream",
     "text": [
      "Number of open cases in 2011: 3580 cases\n",
      "Number of closed cases in 2011: 54682 cases\n",
      "Number of NA values in 2011: 0 cases\n",
      "\n",
      "Number of open cases in 2012: 6168 cases\n",
      "Number of closed cases in 2012: 111924 cases\n",
      "Number of NA values in 2012: 0 cases\n",
      "\n",
      "Number of open cases in 2013: 6312 cases\n",
      "Number of closed cases in 2013: 136298 cases\n",
      "Number of NA values in 2013: 0 cases\n",
      "\n",
      "Number of open cases in 2014: 11636 cases\n",
      "Number of closed cases in 2014: 136184 cases\n",
      "Number of NA values in 2014: 0 cases\n",
      "\n",
      "Number of open cases in 2015: 15089 cases\n",
      "Number of closed cases in 2015: 194994 cases\n",
      "Number of NA values in 2015: 0 cases\n",
      "\n",
      "Number of open cases in 2016: 12856 cases\n",
      "Number of closed cases in 2016: 203679 cases\n",
      "Number of NA values in 2016: 0 cases\n",
      "\n",
      "Number of open cases in 2017: 12594 cases\n",
      "Number of closed cases in 2017: 238675 cases\n",
      "Number of NA values in 2017: 0 cases\n",
      "\n",
      "Number of open cases in 2018: 19510 cases\n",
      "Number of closed cases in 2018: 243238 cases\n",
      "Number of NA values in 2018: 0 cases\n",
      "\n",
      "Number of open cases in 2019: 23322 cases\n",
      "Number of closed cases in 2019: 235700 cases\n",
      "Number of NA values in 2019: 0 cases\n",
      "\n",
      "Number of open cases in 2020: 20275 cases\n",
      "Number of closed cases in 2020: 230947 cases\n",
      "Number of NA values in 2020: 0 cases\n",
      "\n",
      "Number of open cases in 2021: 19712 cases\n",
      "Number of closed cases in 2021: 254072 cases\n",
      "Number of NA values in 2021: 0 cases\n",
      "\n",
      "Number of open cases in 2022: 21029 cases\n",
      "Number of closed cases in 2022: 255570 cases\n",
      "Number of NA values in 2022: 0 cases\n",
      "\n",
      "Number of open cases in 2023: 25549 cases\n",
      "Number of closed cases in 2023: 229930 cases\n",
      "Number of NA values in 2023: 0 cases\n",
      "\n"
     ]
    },
    {
     "data": {
      "image/png": "[encoded data removed]",
      "text/plain": [
       "<Figure size 720x360 with 1 Axes>"
      ]
     },
     "metadata": {
      "needs_background": "light"
     },
     "output_type": "display_data"
    }
   ],
   "source": [
    "# Looking at the volume of open vs closed cases throughout the years.\n",
    "\n",
    "# Number of open, closed, and NA cases per year\n",
    "for i in range(len(total_cases_per_year)):\n",
    "    print(f'Number of open cases in {years[i]}: {open_cases_per_year[i]} cases')\n",
    "    print(f'Number of closed cases in {years[i]}: {closed_cases_per_year[i]} cases')\n",
    "    print(f'Number of NA values in {years[i]}: {na_values} cases')\n",
    "    print()\n",
    "\n",
    "# Plot the graph of volume of cases closed vs open vs NA per year\n",
    "plt.figure(figsize=(10, 5))\n",
    "plt.bar(int_years, closed_cases_per_year, color='green')\n",
    "plt.bar(int_years, open_cases_per_year, bottom=closed_cases_per_year, color='red')\n",
    "plt.bar(int_years, na_values, bottom=np.array(closed_cases_per_year) + np.array(open_cases_per_year), color='blue')\n",
    "plt.title('Volume of Cases Closed vs Open vs NA Per Year')\n",
    "plt.xlabel('Year')\n",
    "plt.ylabel('Volume of Cases')\n",
    "plt.legend(['Closed', 'Open', 'NA'])\n",
    "plt.show()"
   ]
  },
  {
   "cell_type": "markdown",
   "metadata": {},
   "source": [
    "Based on this per year plot, it is shown that the proportion of open cases increases compared to its relative closed cases."
   ]
  },
  {
   "cell_type": "markdown",
   "metadata": {},
   "source": [
    "#### A normalized look into this data"
   ]
  },
  {
   "cell_type": "code",
   "execution_count": 52,
   "metadata": {},
   "outputs": [
    {
     "name": "stdout",
     "output_type": "stream",
     "text": [
      "[ 58262 118092 142610 147820 210083 216535 251269 262748 259022 251222\n",
      " 273784 276599 255479]\n",
      "Proportion of closed cases in 2011: 0.9385534310528303\n",
      "Proportion of open cases in 2011: 0.06144656894716968\n",
      "Proportion of NA values in 2011: 0.0\n",
      "\n",
      "Proportion of closed cases in 2012: 0.9477695356162992\n",
      "Proportion of open cases in 2012: 0.052230464383700846\n",
      "Proportion of NA values in 2012: 0.0\n",
      "\n",
      "Proportion of closed cases in 2013: 0.9557394292125377\n",
      "Proportion of open cases in 2013: 0.04426057078746231\n",
      "Proportion of NA values in 2013: 0.0\n",
      "\n",
      "Proportion of closed cases in 2014: 0.9212826410499256\n",
      "Proportion of open cases in 2014: 0.07871735895007441\n",
      "Proportion of NA values in 2014: 0.0\n",
      "\n",
      "Proportion of closed cases in 2015: 0.9281760066259526\n",
      "Proportion of open cases in 2015: 0.0718239933740474\n",
      "Proportion of NA values in 2015: 0.0\n",
      "\n",
      "Proportion of closed cases in 2016: 0.9406285358025261\n",
      "Proportion of open cases in 2016: 0.05937146419747385\n",
      "Proportion of NA values in 2016: 0.0\n",
      "\n",
      "Proportion of closed cases in 2017: 0.9498784171545236\n",
      "Proportion of open cases in 2017: 0.05012158284547636\n",
      "Proportion of NA values in 2017: 0.0\n",
      "\n",
      "Proportion of closed cases in 2018: 0.9257463425030829\n",
      "Proportion of open cases in 2018: 0.0742536574969172\n",
      "Proportion of NA values in 2018: 0.0\n",
      "\n",
      "Proportion of closed cases in 2019: 0.9099613160272101\n",
      "Proportion of open cases in 2019: 0.09003868397278995\n",
      "Proportion of NA values in 2019: 0.0\n",
      "\n",
      "Proportion of closed cases in 2020: 0.9192944885400164\n",
      "Proportion of open cases in 2020: 0.0807055114599836\n",
      "Proportion of NA values in 2020: 0.0\n",
      "\n",
      "Proportion of closed cases in 2021: 0.9280016363264472\n",
      "Proportion of open cases in 2021: 0.07199836367355288\n",
      "Proportion of NA values in 2021: 0.0\n",
      "\n",
      "Proportion of closed cases in 2022: 0.9239729717027176\n",
      "Proportion of open cases in 2022: 0.07602702829728235\n",
      "Proportion of NA values in 2022: 0.0\n",
      "\n",
      "Proportion of closed cases in 2023: 0.8999956943623546\n",
      "Proportion of open cases in 2023: 0.10000430563764537\n",
      "Proportion of NA values in 2023: 0.0\n",
      "\n"
     ]
    },
    {
     "data": {
      "image/png": "[encoded data removed]",
      "text/plain": [
       "<Figure size 720x360 with 1 Axes>"
      ]
     },
     "metadata": {
      "needs_background": "light"
     },
     "output_type": "display_data"
    },
    {
     "name": "stdout",
     "output_type": "stream",
     "text": [
      "Percent of closed cases in 2011: 93.85534310528303%\n",
      "Percent of open cases in 2011: 6.144656894716968%\n",
      "Percent of NA values in 2011: 0.0%\n",
      "\n",
      "Percent of closed cases in 2012: 94.77695356162992%\n",
      "Percent of open cases in 2012: 5.223046438370084%\n",
      "Percent of NA values in 2012: 0.0%\n",
      "\n",
      "Percent of closed cases in 2013: 95.57394292125377%\n",
      "Percent of open cases in 2013: 4.426057078746231%\n",
      "Percent of NA values in 2013: 0.0%\n",
      "\n",
      "Percent of closed cases in 2014: 92.12826410499257%\n",
      "Percent of open cases in 2014: 7.871735895007441%\n",
      "Percent of NA values in 2014: 0.0%\n",
      "\n",
      "Percent of closed cases in 2015: 92.81760066259525%\n",
      "Percent of open cases in 2015: 7.182399337404741%\n",
      "Percent of NA values in 2015: 0.0%\n",
      "\n",
      "Percent of closed cases in 2016: 94.06285358025261%\n",
      "Percent of open cases in 2016: 5.937146419747385%\n",
      "Percent of NA values in 2016: 0.0%\n",
      "\n",
      "Percent of closed cases in 2017: 94.98784171545236%\n",
      "Percent of open cases in 2017: 5.0121582845476365%\n",
      "Percent of NA values in 2017: 0.0%\n",
      "\n",
      "Percent of closed cases in 2018: 92.57463425030828%\n",
      "Percent of open cases in 2018: 7.4253657496917205%\n",
      "Percent of NA values in 2018: 0.0%\n",
      "\n",
      "Percent of closed cases in 2019: 90.99613160272101%\n",
      "Percent of open cases in 2019: 9.003868397278996%\n",
      "Percent of NA values in 2019: 0.0%\n",
      "\n",
      "Percent of closed cases in 2020: 91.92944885400163%\n",
      "Percent of open cases in 2020: 8.07055114599836%\n",
      "Percent of NA values in 2020: 0.0%\n",
      "\n",
      "Percent of closed cases in 2021: 92.80016363264471%\n",
      "Percent of open cases in 2021: 7.199836367355288%\n",
      "Percent of NA values in 2021: 0.0%\n",
      "\n",
      "Percent of closed cases in 2022: 92.39729717027177%\n",
      "Percent of open cases in 2022: 7.602702829728234%\n",
      "Percent of NA values in 2022: 0.0%\n",
      "\n",
      "Percent of closed cases in 2023: 89.99956943623546%\n",
      "Percent of open cases in 2023: 10.000430563764537%\n",
      "Percent of NA values in 2023: 0.0%\n",
      "\n"
     ]
    },
    {
     "data": {
      "image/png": "[encoded data removed]",
      "text/plain": [
       "<Figure size 720x360 with 1 Axes>"
      ]
     },
     "metadata": {
      "needs_background": "light"
     },
     "output_type": "display_data"
    }
   ],
   "source": [
    "# Calculate the total cases for each year\n",
    "total_cases_per_year = np.array(closed_cases_per_year) + np.array(open_cases_per_year) + np.array(na_values)\n",
    "\n",
    "# Calculate proportions\n",
    "proportion_closed = np.array(closed_cases_per_year) / total_cases_per_year\n",
    "proportion_open = np.array(open_cases_per_year) / total_cases_per_year\n",
    "proportion_na = np.array(na_values) / total_cases_per_year\n",
    "\n",
    "print(total_cases_per_year)\n",
    "\n",
    "# Print the proportions for each year\n",
    "for i in range(len(total_cases_per_year)):\n",
    "    print(f'Proportion of closed cases in {years[i]}: {proportion_closed[i]}')\n",
    "    print(f'Proportion of open cases in {years[i]}: {proportion_open[i]}')\n",
    "    print(f'Proportion of NA values in {years[i]}: {proportion_na[i]}')\n",
    "    print()\n",
    "\n",
    "plt.figure(figsize=(10, 5))\n",
    "plt.bar(int_years, proportion_closed, color='green')\n",
    "plt.bar(int_years, proportion_open, bottom=proportion_closed, color='red')\n",
    "plt.bar(int_years, proportion_na, bottom=proportion_closed + proportion_open, color='blue')\n",
    "\n",
    "plt.title('Proportion of Cases Closed vs Open vs NA Per Year')\n",
    "plt.xlabel('Year')\n",
    "plt.ylabel('Proportion of Cases')\n",
    "plt.legend(['Closed', 'Open', 'NA'])\n",
    "plt.ylim(0, 1)  \n",
    "plt.show()\n",
    "\n",
    "# Print the percents for each year\n",
    "for i in range(len(total_cases_per_year)):\n",
    "    print(f'Percent of closed cases in {years[i]}: {proportion_closed[i] * 100}%')\n",
    "    print(f'Percent of open cases in {years[i]}: {proportion_open[i] * 100}%')\n",
    "    print(f'Percent of NA values in {years[i]}: {proportion_na[i] * 100}%')\n",
    "    print()\n",
    "\n",
    "plt.figure(figsize=(10, 5))\n",
    "plt.bar(int_years, percent_closed_cases_per_year, color='green')\n",
    "plt.bar(int_years, percent_open_cases_per_year, bottom=percent_closed_cases_per_year, color='red')\n",
    "plt.bar(int_years, percent_na_values, bottom=np.array(percent_closed_cases_per_year) + np.array(percent_open_cases_per_year), color='blue')\n",
    "plt.title('Percent of Cases Closed vs Open vs NA Per Year')\n",
    "plt.xlabel('Year')\n",
    "plt.ylabel('Percent of Cases')\n",
    "plt.legend(['Closed', 'Open', 'NA'])\n",
    "plt.ylim(0, 100)\n",
    "plt.show()"
   ]
  },
  {
   "cell_type": "markdown",
   "metadata": {},
   "source": [
    "All these plots show that the volume of open cases is increasing throughout the years even though there are ups and downs, by the end of the last data point of 2023, the amount of open cases per year is at an all time high. This is also true for closed cases as well. This can be because of the sheer volume increase in total cases reported per year. \n",
    "\n",
    "### The percent of cases that are closed is 92.74352172276737% and the percent of cases that are open is 7.256478277232631% and the percent of cases that are NA values are 0.0%"
   ]
  }
 ],
 "metadata": {
  "kernelspec": {
   "display_name": "base",
   "language": "python",
   "name": "python3"
  },
  "language_info": {
   "codemirror_mode": {
    "name": "ipython",
    "version": 3
   },
   "file_extension": ".py",
   "mimetype": "text/x-python",
   "name": "python",
   "nbconvert_exporter": "python",
   "pygments_lexer": "ipython3",
   "version": "3.12.0"
  },
  "orig_nbformat": 4
 },
 "nbformat": 4,
 "nbformat_minor": 2
}
