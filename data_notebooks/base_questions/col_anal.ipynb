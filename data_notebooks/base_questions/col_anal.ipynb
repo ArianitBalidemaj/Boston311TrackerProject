{
 "cells": [
  {
   "cell_type": "markdown",
   "metadata": {},
   "source": [
    "\n",
    "# Starting the Data Analysis:\n",
    "\n",
    "### Introduction:\n",
    "\n",
    "We are starting by first taking in the total data table for the 311 Reports from the API call that was made into a CSV file. We are then going to take the data and clean it up to make it easier to work with and sort it out. We are going to be using the Pandas library to help us with this. "
   ]
  },
  {
   "cell_type": "code",
   "execution_count": 148,
   "metadata": {},
   "outputs": [
    {
     "name": "stderr",
     "output_type": "stream",
     "text": [
      "/var/folders/x_/8pz94hbn65n99wfln5fd_p840000gn/T/ipykernel_2408/2654772693.py:9: DtypeWarning: Columns (14,20) have mixed types. Specify dtype option on import or set low_memory=False.\n",
      "  df = pd.read_csv(path)\n"
     ]
    },
    {
     "data": {
      "text/html": [
       "<div>\n",
       "<style scoped>\n",
       "    .dataframe tbody tr th:only-of-type {\n",
       "        vertical-align: middle;\n",
       "    }\n",
       "\n",
       "    .dataframe tbody tr th {\n",
       "        vertical-align: top;\n",
       "    }\n",
       "\n",
       "    .dataframe thead th {\n",
       "        text-align: right;\n",
       "    }\n",
       "</style>\n",
       "<table border=\"1\" class=\"dataframe\">\n",
       "  <thead>\n",
       "    <tr style=\"text-align: right;\">\n",
       "      <th></th>\n",
       "      <th>neighborhood</th>\n",
       "      <th>open_dt</th>\n",
       "      <th>city_council_district</th>\n",
       "      <th>precinct</th>\n",
       "      <th>subject</th>\n",
       "      <th>neighborhood_services_district</th>\n",
       "      <th>case_enquiry_id</th>\n",
       "      <th>on_time</th>\n",
       "      <th>sla_target_dt</th>\n",
       "      <th>source</th>\n",
       "      <th>...</th>\n",
       "      <th>closure_reason</th>\n",
       "      <th>location_zipcode</th>\n",
       "      <th>closed_dt</th>\n",
       "      <th>case_title</th>\n",
       "      <th>longitude</th>\n",
       "      <th>queue</th>\n",
       "      <th>geom_4326</th>\n",
       "      <th>case_status</th>\n",
       "      <th>_id</th>\n",
       "      <th>fire_district</th>\n",
       "    </tr>\n",
       "  </thead>\n",
       "  <tbody>\n",
       "    <tr>\n",
       "      <th>0</th>\n",
       "      <td>Greater Mattapan</td>\n",
       "      <td>2011-06-30 21:32:33</td>\n",
       "      <td>3</td>\n",
       "      <td>1714</td>\n",
       "      <td>Public Works Department</td>\n",
       "      <td>7</td>\n",
       "      <td>101000295613</td>\n",
       "      <td>ONTIME</td>\n",
       "      <td>2011-07-14 21:32:32</td>\n",
       "      <td>Employee Generated</td>\n",
       "      <td>...</td>\n",
       "      <td>Case Closed Case Resolved replaced 100 amp fus...</td>\n",
       "      <td>NaN</td>\n",
       "      <td>2011-07-01 01:06:58</td>\n",
       "      <td>Street Light Outages</td>\n",
       "      <td>-71.077221</td>\n",
       "      <td>PWDx_Street Light Outages</td>\n",
       "      <td>0101000020E6100000CC4F6F30F1C451C0ADBC83F5C122...</td>\n",
       "      <td>Closed</td>\n",
       "      <td>1</td>\n",
       "      <td>8</td>\n",
       "    </tr>\n",
       "    <tr>\n",
       "      <th>1</th>\n",
       "      <td>Roslindale</td>\n",
       "      <td>2011-06-30 22:18:31</td>\n",
       "      <td>5</td>\n",
       "      <td>2008</td>\n",
       "      <td>Public Works Department</td>\n",
       "      <td>10</td>\n",
       "      <td>101000295614</td>\n",
       "      <td>ONTIME</td>\n",
       "      <td>2011-07-04 22:18:31</td>\n",
       "      <td>Self Service</td>\n",
       "      <td>...</td>\n",
       "      <td>Case Closed Case Scheduled Items have been sch...</td>\n",
       "      <td>2131.0</td>\n",
       "      <td>2011-07-01 02:12:43</td>\n",
       "      <td>Schedule a Bulk Item Pickup</td>\n",
       "      <td>-71.144741</td>\n",
       "      <td>PWDx_Schedule a Bulk Item Pickup</td>\n",
       "      <td>0101000020E6100000C960F36E43C951C06CE46A2F5524...</td>\n",
       "      <td>Closed</td>\n",
       "      <td>2</td>\n",
       "      <td>12</td>\n",
       "    </tr>\n",
       "    <tr>\n",
       "      <th>2</th>\n",
       "      <td>West Roxbury</td>\n",
       "      <td>2011-06-30 22:28:04</td>\n",
       "      <td>6</td>\n",
       "      <td>2017</td>\n",
       "      <td>Transportation - Traffic Division</td>\n",
       "      <td>12</td>\n",
       "      <td>101000295615</td>\n",
       "      <td>ONTIME</td>\n",
       "      <td>2011-08-14 22:28:04</td>\n",
       "      <td>Self Service</td>\n",
       "      <td>...</td>\n",
       "      <td>Case Closed Case Resolved No Sidewalk and poor...</td>\n",
       "      <td>NaN</td>\n",
       "      <td>2011-08-01 11:21:46</td>\n",
       "      <td>New Sign  Crosswalk or Pavement Marking</td>\n",
       "      <td>-71.169805</td>\n",
       "      <td>BTDT_Engineering_New Sign and Pavement Marking...</td>\n",
       "      <td>0101000020E6100000B311E014DECA51C0A1102F826F26...</td>\n",
       "      <td>Closed</td>\n",
       "      <td>3</td>\n",
       "      <td>NaN</td>\n",
       "    </tr>\n",
       "    <tr>\n",
       "      <th>3</th>\n",
       "      <td>Hyde Park</td>\n",
       "      <td>2011-06-30 23:03:48</td>\n",
       "      <td>5</td>\n",
       "      <td>1816</td>\n",
       "      <td>Public Works Department</td>\n",
       "      <td>10</td>\n",
       "      <td>101000295616</td>\n",
       "      <td>OVERDUE</td>\n",
       "      <td>2011-07-14 23:03:48</td>\n",
       "      <td>Self Service</td>\n",
       "      <td>...</td>\n",
       "      <td>Case Closed Case Resolved completed</td>\n",
       "      <td>2136.0</td>\n",
       "      <td>2011-07-22 12:13:45</td>\n",
       "      <td>Street Light Outages</td>\n",
       "      <td>-71.115631</td>\n",
       "      <td>PWDx_Street Light_Pending_Contractor (Internal)</td>\n",
       "      <td>0101000020E61000003219CE7E66C751C0DDF2D930F41F...</td>\n",
       "      <td>Closed</td>\n",
       "      <td>4</td>\n",
       "      <td>12</td>\n",
       "    </tr>\n",
       "    <tr>\n",
       "      <th>4</th>\n",
       "      <td>Dorchester</td>\n",
       "      <td>2011-06-30 23:12:31</td>\n",
       "      <td>3</td>\n",
       "      <td>1309</td>\n",
       "      <td>Public Works Department</td>\n",
       "      <td>7</td>\n",
       "      <td>101000295617</td>\n",
       "      <td>ONTIME</td>\n",
       "      <td>NaN</td>\n",
       "      <td>Constituent Call</td>\n",
       "      <td>...</td>\n",
       "      <td>Case Closed Case Resolved</td>\n",
       "      <td>NaN</td>\n",
       "      <td>2011-07-01 02:12:38</td>\n",
       "      <td>Highway Maintenance</td>\n",
       "      <td>-71.056878</td>\n",
       "      <td>PWDx_District 03: North Dorchester</td>\n",
       "      <td>0101000020E6100000615079E5A3C351C0C71CEA6D3F28...</td>\n",
       "      <td>Closed</td>\n",
       "      <td>5</td>\n",
       "      <td>7</td>\n",
       "    </tr>\n",
       "  </tbody>\n",
       "</table>\n",
       "<p>5 rows × 31 columns</p>\n",
       "</div>"
      ],
      "text/plain": [
       "       neighborhood              open_dt city_council_district precinct  \\\n",
       "0  Greater Mattapan  2011-06-30 21:32:33                     3     1714   \n",
       "1        Roslindale  2011-06-30 22:18:31                     5     2008   \n",
       "2      West Roxbury  2011-06-30 22:28:04                     6     2017   \n",
       "3         Hyde Park  2011-06-30 23:03:48                     5     1816   \n",
       "4        Dorchester  2011-06-30 23:12:31                     3     1309   \n",
       "\n",
       "                             subject neighborhood_services_district  \\\n",
       "0            Public Works Department                              7   \n",
       "1            Public Works Department                             10   \n",
       "2  Transportation - Traffic Division                             12   \n",
       "3            Public Works Department                             10   \n",
       "4            Public Works Department                              7   \n",
       "\n",
       "   case_enquiry_id  on_time        sla_target_dt              source  ...  \\\n",
       "0     101000295613   ONTIME  2011-07-14 21:32:32  Employee Generated  ...   \n",
       "1     101000295614   ONTIME  2011-07-04 22:18:31        Self Service  ...   \n",
       "2     101000295615   ONTIME  2011-08-14 22:28:04        Self Service  ...   \n",
       "3     101000295616  OVERDUE  2011-07-14 23:03:48        Self Service  ...   \n",
       "4     101000295617   ONTIME                  NaN    Constituent Call  ...   \n",
       "\n",
       "                                      closure_reason location_zipcode  \\\n",
       "0  Case Closed Case Resolved replaced 100 amp fus...              NaN   \n",
       "1  Case Closed Case Scheduled Items have been sch...           2131.0   \n",
       "2  Case Closed Case Resolved No Sidewalk and poor...              NaN   \n",
       "3               Case Closed Case Resolved completed            2136.0   \n",
       "4                         Case Closed Case Resolved               NaN   \n",
       "\n",
       "             closed_dt                               case_title  longitude  \\\n",
       "0  2011-07-01 01:06:58                     Street Light Outages -71.077221   \n",
       "1  2011-07-01 02:12:43              Schedule a Bulk Item Pickup -71.144741   \n",
       "2  2011-08-01 11:21:46  New Sign  Crosswalk or Pavement Marking -71.169805   \n",
       "3  2011-07-22 12:13:45                     Street Light Outages -71.115631   \n",
       "4  2011-07-01 02:12:38                      Highway Maintenance -71.056878   \n",
       "\n",
       "                                               queue  \\\n",
       "0                          PWDx_Street Light Outages   \n",
       "1                   PWDx_Schedule a Bulk Item Pickup   \n",
       "2  BTDT_Engineering_New Sign and Pavement Marking...   \n",
       "3    PWDx_Street Light_Pending_Contractor (Internal)   \n",
       "4                 PWDx_District 03: North Dorchester   \n",
       "\n",
       "                                           geom_4326 case_status _id  \\\n",
       "0  0101000020E6100000CC4F6F30F1C451C0ADBC83F5C122...      Closed   1   \n",
       "1  0101000020E6100000C960F36E43C951C06CE46A2F5524...      Closed   2   \n",
       "2  0101000020E6100000B311E014DECA51C0A1102F826F26...      Closed   3   \n",
       "3  0101000020E61000003219CE7E66C751C0DDF2D930F41F...      Closed   4   \n",
       "4  0101000020E6100000615079E5A3C351C0C71CEA6D3F28...      Closed   5   \n",
       "\n",
       "  fire_district  \n",
       "0             8  \n",
       "1            12  \n",
       "2           NaN  \n",
       "3            12  \n",
       "4             7  \n",
       "\n",
       "[5 rows x 31 columns]"
      ]
     },
     "execution_count": 148,
     "metadata": {},
     "output_type": "execute_result"
    }
   ],
   "source": [
    "import pandas as pd\n",
    "import numpy as np\n",
    "\n",
    "\n",
    "# Path to the data\n",
    "path = '../../data/data_total2.csv'\n",
    "\n",
    "# Read the data\n",
    "df = pd.read_csv(path)\n",
    "\n",
    "# Print the data\n",
    "df.head()"
   ]
  },
  {
   "cell_type": "markdown",
   "metadata": {},
   "source": [
    "## Columns:\n",
    "\n",
    "\n",
    "### Function to give a general description\n",
    "\n",
    "A function that will be used to describe each column in the table in a set paragraph format to help better understand each column and what datatypes are being used."
   ]
  },
  {
   "cell_type": "code",
   "execution_count": 149,
   "metadata": {},
   "outputs": [],
   "source": [
    "# Create a function to get the column names and write a paragraph about each column that is inputed in a set paragraph format. Create the paragraph and also the datatypes of the columns and unique values of that columns if its less than 50 unique values.\n",
    "\n",
    "def describe_column(column_name, dataframe):\n",
    "    description = \"\"\n",
    "    if column_name in dataframe.columns:\n",
    "        print(\"Column for this data is from 2011-2023 data of Boston 311 service requests.\\n\")\n",
    "        data_type = str(dataframe[column_name].dtype)\n",
    "        unique_values = dataframe[column_name].unique()\n",
    "        num_unique_values = len(unique_values)\n",
    "        \n",
    "        print(f\"**{column_name} ({data_type}):** \\n\")\n",
    "        \n",
    "        if num_unique_values < 50:\n",
    "            print(f\"This column contains {num_unique_values} unique values: {', '.join(map(str, unique_values))}.\\n\")\n",
    "        else:\n",
    "            print(\"This column contains a large number of unique values.\\n\")\n",
    "        \n",
    "        #Find the number of null values\n",
    "        num_null = dataframe[column_name].isnull().sum()\n",
    "        print(f\"There are {num_null} null values.\\n\")\n",
    "\n",
    "        # Find the number of non-null values\n",
    "        num_non_null = dataframe[column_name].count()\n",
    "        print(f\"There are {num_non_null} non-null values.\\n\")\n",
    "\n",
    "        # Find the number of unique values\n",
    "        num_unique = dataframe[column_name].nunique()\n",
    "        print(f\"There are {num_unique} unique values.\\n\")\n",
    "\n",
    "        # Sample a few values\n",
    "        print(\"Here are a few sample values:\")\n",
    "        print(dataframe[column_name].sample(5).tolist())\n",
    "        print(\"\\n\")\n",
    "\n",
    "        # Add more specific details based on column name\n",
    "        if column_name == \"open_dt\":\n",
    "            print(\"This column represents the date when the case was opened.\")\n",
    "        elif column_name == \"neighborhood\":\n",
    "            print(\" This column represents the neighborhood where cases are reported.\")\n",
    "        elif column_name == \"city_council_district\":\n",
    "            print(\" This column represents the city council district where cases are reported.\")\n",
    "        elif column_name == \"precinct\":\n",
    "            print(\" This column represents the police precinct where cases are reported.\")\n",
    "        elif column_name == \"subject\":\n",
    "            print(\" This column represents the subject of the case.\")\n",
    "        elif column_name == \"neighborhood_services_district\":\n",
    "            print(\" This column represents the neighborhood services district where cases are reported.\")\n",
    "        elif column_name == \"case_enquiry_id\":\n",
    "            print(\" This column represents the case enquiry id of the case.\")\n",
    "        elif column_name == \"on_time\":\n",
    "            print(\" This column represents whether the case was addressed on time or not.\")\n",
    "        elif column_name == \"sla_target_dt\":\n",
    "            print(\" This column represents the service level agreement target date of the case.\")\n",
    "        elif column_name == \"source\":\n",
    "            print(\" This column represents the source of the case.\")\n",
    "        elif column_name == \"location\":\n",
    "            print(\" This column represents the location of the case.\")\n",
    "        elif column_name == \"department\":\n",
    "            print(\" This column represents the department of the case.\")\n",
    "        elif column_name == \"type\":\n",
    "            print(\" This column represents the type of the case.\")\n",
    "        elif column_name == \"police_district\":\n",
    "            print(\" This column represents the police district of the case.\")\n",
    "        elif column_name == \"submitted_photo\":\n",
    "            print(\" This column represents whether the case was submitted with a photo or not.\")\n",
    "        elif column_name == \"latitude\":\n",
    "            print(\" This column represents the latitude of the case.\")\n",
    "        elif column_name == \"reason\":\n",
    "            print( \" This column represents the reason of the case.\")\n",
    "        elif column_name == \"ward\":\n",
    "            print(\" This column represents the ward of the case.\")\n",
    "        elif column_name == \"location_street_name\":\n",
    "            print(\" This column represents the location street name of the case.\")\n",
    "        elif column_name == \"pwd_district\":\n",
    "            print(\" This column represents the pwd district of the case.\")\n",
    "        elif column_name == \"closed_photo\":\n",
    "            print(\" This column represents whether the case was closed with a photo or not.\")\n",
    "        elif column_name == \"closure_reason\":\n",
    "            print(\" This column represents the closure reason of the case.\")\n",
    "        elif column_name == \"location_zipcode\":\n",
    "            print(\" This column represents the location zipcode of the case.\")\n",
    "        elif column_name == \"closed_dt\":\n",
    "            print(\" This column represents the date when the case was closed.\")\n",
    "        elif column_name == \"case_title\":\n",
    "            print(\" This column represents the case title of the case.\")\n",
    "        elif column_name == \"longitude\":\n",
    "            print(\" This column represents the longitude of the case.\")\n",
    "        elif column_name == \"queue\":\n",
    "            print(\" This column represents the queue of the case.\")\n",
    "        elif column_name == \"geom_4326\":\n",
    "            print(\" This column represents the geom_4326 of the case.\")\n",
    "        elif column_name == \"case_status\":\n",
    "            print(\" This column represents the case status of the case.\")\n",
    "        elif column_name == \"_id\":\n",
    "            print(\" This column represents the id of the case.\")\n",
    "        elif column_name == \"fire_district\":\n",
    "            print(\" This column represents the fire district of the case.\")\n",
    "\n",
    "    return"
   ]
  },
  {
   "cell_type": "markdown",
   "metadata": {},
   "source": [
    "### Neighborhood"
   ]
  },
  {
   "cell_type": "code",
   "execution_count": 150,
   "metadata": {},
   "outputs": [
    {
     "name": "stdout",
     "output_type": "stream",
     "text": [
      "Column for this data is from 2011-2023 data of Boston 311 service requests.\n",
      "\n",
      "**neighborhood (object):** \n",
      "\n",
      "This column contains 25 unique values: Greater Mattapan, Roslindale, West Roxbury, Hyde Park, Dorchester, Jamaica Plain, Fenway / Kenmore / Audubon Circle / Longwood, Roxbury, South Boston / South Boston Waterfront, Back Bay, Allston / Brighton, East Boston, Downtown / Financial District, Boston, Charlestown,  , Beacon Hill, South End, Mission Hill, Allston, Brighton, South Boston, Mattapan, nan, Chestnut Hill.\n",
      "\n",
      "There are 2660 null values.\n",
      "\n",
      "There are 2720865 non-null values.\n",
      "\n",
      "There are 24 unique values.\n",
      "\n",
      "Here are a few sample values:\n",
      "['Dorchester', 'Jamaica Plain', 'South Boston / South Boston Waterfront', 'East Boston', 'Dorchester']\n",
      "\n",
      "\n",
      " This column represents the neighborhood where cases are reported.\n",
      "None\n"
     ]
    }
   ],
   "source": [
    "print(describe_column(\"neighborhood\", df))"
   ]
  },
  {
   "cell_type": "markdown",
   "metadata": {},
   "source": [
    "### Open_dt\n"
   ]
  },
  {
   "cell_type": "code",
   "execution_count": 151,
   "metadata": {},
   "outputs": [
    {
     "name": "stdout",
     "output_type": "stream",
     "text": [
      "Column for this data is from 2011-2023 data of Boston 311 service requests.\n",
      "\n",
      "**open_dt (object):** \n",
      "\n",
      "This column contains a large number of unique values.\n",
      "\n",
      "There are 0 null values.\n",
      "\n",
      "There are 2723525 non-null values.\n",
      "\n",
      "There are 2468159 unique values.\n",
      "\n",
      "Here are a few sample values:\n",
      "['2015-06-24 09:08:00', '2013-05-09 03:47:58', '2012-11-14 05:25:56', '2016-06-26 14:42:34', '2020-08-30 17:15:48']\n",
      "\n",
      "\n",
      "This column represents the date when the case was opened.\n",
      "None\n"
     ]
    }
   ],
   "source": [
    "print(describe_column(\"open_dt\", df))"
   ]
  },
  {
   "cell_type": "markdown",
   "metadata": {},
   "source": [
    "### City Council District"
   ]
  },
  {
   "cell_type": "code",
   "execution_count": 152,
   "metadata": {},
   "outputs": [
    {
     "name": "stdout",
     "output_type": "stream",
     "text": [
      "Column for this data is from 2011-2023 data of Boston 311 service requests.\n",
      "\n",
      "**city_council_district (object):** \n",
      "\n",
      "This column contains 12 unique values: 3, 5, 6, 8, 7, 2, 9, 4, 1,  , 0, nan.\n",
      "\n",
      "There are 302 null values.\n",
      "\n",
      "There are 2723223 non-null values.\n",
      "\n",
      "There are 11 unique values.\n",
      "\n",
      "Here are a few sample values:\n",
      "['1', '1', '6', '1', '4']\n",
      "\n",
      "\n",
      " This column represents the city council district where cases are reported.\n",
      "None\n"
     ]
    }
   ],
   "source": [
    "print(describe_column('city_council_district', df))"
   ]
  },
  {
   "cell_type": "markdown",
   "metadata": {},
   "source": [
    "### Precinct"
   ]
  },
  {
   "cell_type": "code",
   "execution_count": 153,
   "metadata": {},
   "outputs": [
    {
     "name": "stdout",
     "output_type": "stream",
     "text": [
      "Column for this data is from 2011-2023 data of Boston 311 service requests.\n",
      "\n",
      "**precinct (object):** \n",
      "\n",
      "This column contains a large number of unique values.\n",
      "\n",
      "There are 1730 null values.\n",
      "\n",
      "There are 2721795 non-null values.\n",
      "\n",
      "There are 255 unique values.\n",
      "\n",
      "Here are a few sample values:\n",
      "['0303', '1005', '1708', '1804', '1819']\n",
      "\n",
      "\n",
      " This column represents the police precinct where cases are reported.\n"
     ]
    }
   ],
   "source": [
    "describe_column('precinct', df)"
   ]
  },
  {
   "cell_type": "markdown",
   "metadata": {},
   "source": [
    "### Subject"
   ]
  },
  {
   "cell_type": "code",
   "execution_count": 154,
   "metadata": {},
   "outputs": [
    {
     "name": "stdout",
     "output_type": "stream",
     "text": [
      "Column for this data is from 2011-2023 data of Boston 311 service requests.\n",
      "\n",
      "**subject (object):** \n",
      "\n",
      "This column contains 14 unique values: Public Works Department, Transportation - Traffic Division, Mayor's 24 Hour Hotline, Inspectional Services, Property Management, Parks & Recreation Department, Boston Water & Sewer Commission, Animal Control, Neighborhood Services, Boston Police Department, Disability Department, Consumer Affairs & Licensing, Veterans, CRM Application.\n",
      "\n",
      "There are 0 null values.\n",
      "\n",
      "There are 2723525 non-null values.\n",
      "\n",
      "There are 14 unique values.\n",
      "\n",
      "Here are a few sample values:\n",
      "['Public Works Department', 'Public Works Department', 'Public Works Department', 'Transportation - Traffic Division', 'Transportation - Traffic Division']\n",
      "\n",
      "\n",
      " This column represents the subject of the case.\n"
     ]
    }
   ],
   "source": [
    "describe_column('subject', df)"
   ]
  },
  {
   "cell_type": "markdown",
   "metadata": {},
   "source": [
    "### Neighborhood Services District"
   ]
  },
  {
   "cell_type": "code",
   "execution_count": 155,
   "metadata": {},
   "outputs": [
    {
     "name": "stdout",
     "output_type": "stream",
     "text": [
      "Column for this data is from 2011-2023 data of Boston 311 service requests.\n",
      "\n",
      "**neighborhood_services_district (object):** \n",
      "\n",
      "This column contains 18 unique values: 7, 10, 12, 11, 14, 13, 5, 6, 15, 9, 8, 1, 3, 2, 4,  , 0, nan.\n",
      "\n",
      "There are 308 null values.\n",
      "\n",
      "There are 2723217 non-null values.\n",
      "\n",
      "There are 17 unique values.\n",
      "\n",
      "Here are a few sample values:\n",
      "['8', '9', '15', '13', '10']\n",
      "\n",
      "\n",
      " This column represents the neighborhood services district where cases are reported.\n"
     ]
    }
   ],
   "source": [
    "describe_column('neighborhood_services_district', df)"
   ]
  },
  {
   "cell_type": "markdown",
   "metadata": {},
   "source": [
    "### Case Inquiry ID"
   ]
  },
  {
   "cell_type": "code",
   "execution_count": 156,
   "metadata": {},
   "outputs": [
    {
     "name": "stdout",
     "output_type": "stream",
     "text": [
      "Column for this data is from 2011-2023 data of Boston 311 service requests.\n",
      "\n",
      "**case_enquiry_id (int64):** \n",
      "\n",
      "This column contains a large number of unique values.\n",
      "\n",
      "There are 0 null values.\n",
      "\n",
      "There are 2723525 non-null values.\n",
      "\n",
      "There are 2723525 unique values.\n",
      "\n",
      "Here are a few sample values:\n",
      "[101002848218, 101002593028, 101003667106, 101004555293, 101003127118]\n",
      "\n",
      "\n",
      " This column represents the case enquiry id of the case.\n"
     ]
    }
   ],
   "source": [
    "describe_column('case_enquiry_id', df)"
   ]
  },
  {
   "cell_type": "markdown",
   "metadata": {},
   "source": [
    "### On Time"
   ]
  },
  {
   "cell_type": "code",
   "execution_count": 157,
   "metadata": {},
   "outputs": [
    {
     "name": "stdout",
     "output_type": "stream",
     "text": [
      "Column for this data is from 2011-2023 data of Boston 311 service requests.\n",
      "\n",
      "**on_time (object):** \n",
      "\n",
      "This column contains 3 unique values: ONTIME, OVERDUE, nan.\n",
      "\n",
      "There are 671 null values.\n",
      "\n",
      "There are 2722854 non-null values.\n",
      "\n",
      "There are 2 unique values.\n",
      "\n",
      "Here are a few sample values:\n",
      "['ONTIME', 'ONTIME', 'ONTIME', 'ONTIME', 'OVERDUE']\n",
      "\n",
      "\n",
      " This column represents whether the case was addressed on time or not.\n"
     ]
    }
   ],
   "source": [
    "describe_column('on_time', df)"
   ]
  },
  {
   "cell_type": "markdown",
   "metadata": {},
   "source": [
    "### Service Level Agreement Target Date"
   ]
  },
  {
   "cell_type": "code",
   "execution_count": 158,
   "metadata": {},
   "outputs": [
    {
     "name": "stdout",
     "output_type": "stream",
     "text": [
      "Column for this data is from 2011-2023 data of Boston 311 service requests.\n",
      "\n",
      "**sla_target_dt (object):** \n",
      "\n",
      "This column contains a large number of unique values.\n",
      "\n",
      "There are 454717 null values.\n",
      "\n",
      "There are 2268808 non-null values.\n",
      "\n",
      "There are 1400557 unique values.\n",
      "\n",
      "Here are a few sample values:\n",
      "['2012-07-07 09:21:04', '2015-08-25 12:02:35', '2020-02-03 03:30:00', nan, '2017-10-13 04:30:00']\n",
      "\n",
      "\n",
      " This column represents the service level agreement target date of the case.\n"
     ]
    }
   ],
   "source": [
    "describe_column('sla_target_dt', df)"
   ]
  },
  {
   "cell_type": "markdown",
   "metadata": {},
   "source": [
    "### Source"
   ]
  },
  {
   "cell_type": "code",
   "execution_count": 159,
   "metadata": {},
   "outputs": [
    {
     "name": "stdout",
     "output_type": "stream",
     "text": [
      "Column for this data is from 2011-2023 data of Boston 311 service requests.\n",
      "\n",
      "**source (object):** \n",
      "\n",
      "This column contains 7 unique values: Employee Generated, Self Service, Constituent Call, Citizens Connect App, Twitter, Maximo Integration, City Worker App.\n",
      "\n",
      "There are 0 null values.\n",
      "\n",
      "There are 2723525 non-null values.\n",
      "\n",
      "There are 7 unique values.\n",
      "\n",
      "Here are a few sample values:\n",
      "['Citizens Connect App', 'Citizens Connect App', 'Employee Generated', 'Citizens Connect App', 'Constituent Call']\n",
      "\n",
      "\n",
      " This column represents the source of the case.\n"
     ]
    }
   ],
   "source": [
    "describe_column('source', df)"
   ]
  },
  {
   "cell_type": "markdown",
   "metadata": {},
   "source": [
    "### Location"
   ]
  },
  {
   "cell_type": "code",
   "execution_count": 160,
   "metadata": {},
   "outputs": [
    {
     "name": "stdout",
     "output_type": "stream",
     "text": [
      "Column for this data is from 2011-2023 data of Boston 311 service requests.\n",
      "\n",
      "**location (object):** \n",
      "\n",
      "This column contains a large number of unique values.\n",
      "\n",
      "There are 0 null values.\n",
      "\n",
      "There are 2723525 non-null values.\n",
      "\n",
      "There are 148463 unique values.\n",
      "\n",
      "Here are a few sample values:\n",
      "['9 Martinwood Rd  Roslindale  MA  02131', 'INTERSECTION of Dudley St & Harrison Ave  Roxbury  MA  ', '169 Townsend St  Dorchester  MA  02121', 'INTERSECTION of Brainerd Rd & Corey Rd  Allston  MA  ', 'INTERSECTION of Public Alley No. 439 & Clarendon St  Boston  MA  ']\n",
      "\n",
      "\n",
      " This column represents the location of the case.\n"
     ]
    }
   ],
   "source": [
    "describe_column('location', df)"
   ]
  },
  {
   "cell_type": "markdown",
   "metadata": {},
   "source": [
    "### Department"
   ]
  },
  {
   "cell_type": "code",
   "execution_count": 161,
   "metadata": {},
   "outputs": [
    {
     "name": "stdout",
     "output_type": "stream",
     "text": [
      "Column for this data is from 2011-2023 data of Boston 311 service requests.\n",
      "\n",
      "**department (object):** \n",
      "\n",
      "This column contains 19 unique values: PWDx, BTDT, INFO, ISD, PARK, PROP, BWSC, DISB, No Q, BPS_, BHA_, ANML, ONS_, GEN_, BPD_, DND_, Temp, ECON, GRNi.\n",
      "\n",
      "There are 0 null values.\n",
      "\n",
      "There are 2723525 non-null values.\n",
      "\n",
      "There are 19 unique values.\n",
      "\n",
      "Here are a few sample values:\n",
      "['BPS_', 'PARK', 'INFO', 'PWDx', 'PWDx']\n",
      "\n",
      "\n",
      " This column represents the department of the case.\n"
     ]
    }
   ],
   "source": [
    "describe_column('department', df)"
   ]
  },
  {
   "cell_type": "markdown",
   "metadata": {},
   "source": [
    "### Type "
   ]
  },
  {
   "cell_type": "code",
   "execution_count": 162,
   "metadata": {},
   "outputs": [
    {
     "name": "stdout",
     "output_type": "stream",
     "text": [
      "Column for this data is from 2011-2023 data of Boston 311 service requests.\n",
      "\n",
      "**type (object):** \n",
      "\n",
      "This column contains a large number of unique values.\n",
      "\n",
      "There are 0 null values.\n",
      "\n",
      "There are 2723525 non-null values.\n",
      "\n",
      "There are 212 unique values.\n",
      "\n",
      "Here are a few sample values:\n",
      "['Schedule a Bulk Item Pickup', 'Schedule a Bulk Item Pickup', 'Schedule a Bulk Item Pickup', 'Trash on Vacant Lot', 'Requests for Street Cleaning']\n",
      "\n",
      "\n",
      " This column represents the type of the case.\n"
     ]
    }
   ],
   "source": [
    "describe_column('type', df)"
   ]
  },
  {
   "cell_type": "markdown",
   "metadata": {},
   "source": [
    "### Police District"
   ]
  },
  {
   "cell_type": "code",
   "execution_count": 163,
   "metadata": {},
   "outputs": [
    {
     "name": "stdout",
     "output_type": "stream",
     "text": [
      "Column for this data is from 2011-2023 data of Boston 311 service requests.\n",
      "\n",
      "**police_district (object):** \n",
      "\n",
      "This column contains 25 unique values: B3, E5, E18, C11, E13, D4, C6, A1, B2, D14, A7, A15,  , nan, D-14, C-11, B-2, A-15, D-4, E-13, C-6, E-5, B-3, E-18, A-7.\n",
      "\n",
      "There are 1088 null values.\n",
      "\n",
      "There are 2722437 non-null values.\n",
      "\n",
      "There are 24 unique values.\n",
      "\n",
      "Here are a few sample values:\n",
      "['A1', 'A7', 'D4', 'D4', 'B2']\n",
      "\n",
      "\n",
      " This column represents the police district of the case.\n"
     ]
    }
   ],
   "source": [
    "describe_column('police_district', df)"
   ]
  },
  {
   "cell_type": "markdown",
   "metadata": {},
   "source": [
    "### Submitted Photo"
   ]
  },
  {
   "cell_type": "code",
   "execution_count": 164,
   "metadata": {},
   "outputs": [
    {
     "name": "stdout",
     "output_type": "stream",
     "text": [
      "Column for this data is from 2011-2023 data of Boston 311 service requests.\n",
      "\n",
      "**submitted_photo (object):** \n",
      "\n",
      "This column contains a large number of unique values.\n",
      "\n",
      "There are 2720397 null values.\n",
      "\n",
      "There are 3128 non-null values.\n",
      "\n",
      "There are 3117 unique values.\n",
      "\n",
      "Here are a few sample values:\n",
      "[nan, nan, nan, nan, nan]\n",
      "\n",
      "\n",
      " This column represents whether the case was submitted with a photo or not.\n"
     ]
    }
   ],
   "source": [
    "describe_column('submitted_photo', df)"
   ]
  },
  {
   "cell_type": "markdown",
   "metadata": {},
   "source": [
    "### Latitude"
   ]
  },
  {
   "cell_type": "code",
   "execution_count": 165,
   "metadata": {},
   "outputs": [
    {
     "name": "stdout",
     "output_type": "stream",
     "text": [
      "Column for this data is from 2011-2023 data of Boston 311 service requests.\n",
      "\n",
      "**latitude (float64):** \n",
      "\n",
      "This column contains a large number of unique values.\n",
      "\n",
      "There are 44128 null values.\n",
      "\n",
      "There are 2679397 non-null values.\n",
      "\n",
      "There are 198910 unique values.\n",
      "\n",
      "Here are a few sample values:\n",
      "[42.288879629636206, 42.29379960618186, 42.32171724611683, 42.36603951799728, 42.35240954659568]\n",
      "\n",
      "\n",
      " This column represents the latitude of the case.\n"
     ]
    }
   ],
   "source": [
    "describe_column('latitude', df)"
   ]
  },
  {
   "cell_type": "markdown",
   "metadata": {},
   "source": [
    "### Reason"
   ]
  },
  {
   "cell_type": "code",
   "execution_count": 166,
   "metadata": {},
   "outputs": [
    {
     "name": "stdout",
     "output_type": "stream",
     "text": [
      "Column for this data is from 2011-2023 data of Boston 311 service requests.\n",
      "\n",
      "**reason (object):** \n",
      "\n",
      "This column contains a large number of unique values.\n",
      "\n",
      "There are 0 null values.\n",
      "\n",
      "There are 2723525 non-null values.\n",
      "\n",
      "There are 54 unique values.\n",
      "\n",
      "Here are a few sample values:\n",
      "['Street Cleaning', 'Needle Program', 'Highway Maintenance', 'Environmental Services', 'Enforcement & Abandoned Vehicles']\n",
      "\n",
      "\n",
      " This column represents the reason of the case.\n"
     ]
    }
   ],
   "source": [
    "describe_column('reason', df)"
   ]
  },
  {
   "cell_type": "markdown",
   "metadata": {},
   "source": [
    "### Ward"
   ]
  },
  {
   "cell_type": "code",
   "execution_count": 167,
   "metadata": {},
   "outputs": [
    {
     "name": "stdout",
     "output_type": "stream",
     "text": [
      "Column for this data is from 2011-2023 data of Boston 311 service requests.\n",
      "\n",
      "**ward (object):** \n",
      "\n",
      "This column contains a large number of unique values.\n",
      "\n",
      "There are 180 null values.\n",
      "\n",
      "There are 2723345 non-null values.\n",
      "\n",
      "There are 56 unique values.\n",
      "\n",
      "Here are a few sample values:\n",
      "['Ward 18', 'Ward 4', '03', '19', '01']\n",
      "\n",
      "\n",
      " This column represents the ward of the case.\n"
     ]
    }
   ],
   "source": [
    "describe_column('ward', df)"
   ]
  },
  {
   "cell_type": "markdown",
   "metadata": {},
   "source": [
    "### Location Street Name"
   ]
  },
  {
   "cell_type": "code",
   "execution_count": 168,
   "metadata": {},
   "outputs": [
    {
     "name": "stdout",
     "output_type": "stream",
     "text": [
      "Column for this data is from 2011-2023 data of Boston 311 service requests.\n",
      "\n",
      "**location_street_name (object):** \n",
      "\n",
      "This column contains a large number of unique values.\n",
      "\n",
      "There are 54879 null values.\n",
      "\n",
      "There are 2668646 non-null values.\n",
      "\n",
      "There are 145089 unique values.\n",
      "\n",
      "Here are a few sample values:\n",
      "['461 Massachusetts Ave', '421-423 Beech St', '9 Grove St', '66 Lyndhurst St', 'INTERSECTION Brighton Ave & Linden St']\n",
      "\n",
      "\n",
      " This column represents the location street name of the case.\n"
     ]
    }
   ],
   "source": [
    "describe_column('location_street_name', df)"
   ]
  },
  {
   "cell_type": "markdown",
   "metadata": {},
   "source": [
    "### PWD District"
   ]
  },
  {
   "cell_type": "code",
   "execution_count": 169,
   "metadata": {},
   "outputs": [
    {
     "name": "stdout",
     "output_type": "stream",
     "text": [
      "Column for this data is from 2011-2023 data of Boston 311 service requests.\n",
      "\n",
      "**pwd_district (object):** \n",
      "\n",
      "This column contains 23 unique values: 07, 06, 08, 03, 10A, 10B, 05, 1C, 04, 02, 09, 1A, 1B,  , nan, 6, 4, 3, 9, 5, 2, 7, 8.\n",
      "\n",
      "There are 1368 null values.\n",
      "\n",
      "There are 2722157 non-null values.\n",
      "\n",
      "There are 22 unique values.\n",
      "\n",
      "Here are a few sample values:\n",
      "['09', '10B', '02', '1C', '1C']\n",
      "\n",
      "\n",
      " This column represents the pwd district of the case.\n"
     ]
    }
   ],
   "source": [
    "describe_column('pwd_district', df)"
   ]
  },
  {
   "cell_type": "markdown",
   "metadata": {},
   "source": [
    "### Closed Photo"
   ]
  },
  {
   "cell_type": "code",
   "execution_count": 170,
   "metadata": {},
   "outputs": [
    {
     "name": "stdout",
     "output_type": "stream",
     "text": [
      "Column for this data is from 2011-2023 data of Boston 311 service requests.\n",
      "\n",
      "**closed_photo (object):** \n",
      "\n",
      "This column contains a large number of unique values.\n",
      "\n",
      "There are 2470512 null values.\n",
      "\n",
      "There are 253013 non-null values.\n",
      "\n",
      "There are 253013 unique values.\n",
      "\n",
      "Here are a few sample values:\n",
      "[nan, nan, nan, nan, nan]\n",
      "\n",
      "\n",
      " This column represents whether the case was closed with a photo or not.\n"
     ]
    }
   ],
   "source": [
    "describe_column('closed_photo', df)"
   ]
  },
  {
   "cell_type": "markdown",
   "metadata": {},
   "source": [
    "### Closure Reason "
   ]
  },
  {
   "cell_type": "code",
   "execution_count": 171,
   "metadata": {},
   "outputs": [
    {
     "name": "stdout",
     "output_type": "stream",
     "text": [
      "Column for this data is from 2011-2023 data of Boston 311 service requests.\n",
      "\n",
      "**closure_reason (object):** \n",
      "\n",
      "This column contains a large number of unique values.\n",
      "\n",
      "There are 0 null values.\n",
      "\n",
      "There are 2723525 non-null values.\n",
      "\n",
      "There are 2105083 unique values.\n",
      "\n",
      "Here are a few sample values:\n",
      "['Case Closed. Closed date : 2017-10-23 10:02:46.61 Case Resolved work completed ', 'Case Closed. Closed date : 2018-03-09 11:35:06.073 Case Resolved ', 'Case Closed. Closed date : 2023-04-12 14:28:08.523 Duplicate of Existing Case ', 'Case Closed Case Invalid  no e form  ', 'Case Closed. Closed date : 2019-02-27 12:56:37.9 Case Noted We will return on next scheduled trash day. Thank you for bringing this to our attention and using the system. ']\n",
      "\n",
      "\n",
      " This column represents the closure reason of the case.\n"
     ]
    }
   ],
   "source": [
    "describe_column('closure_reason', df)"
   ]
  },
  {
   "cell_type": "markdown",
   "metadata": {},
   "source": [
    "### Location Zipcode"
   ]
  },
  {
   "cell_type": "code",
   "execution_count": 172,
   "metadata": {},
   "outputs": [
    {
     "name": "stdout",
     "output_type": "stream",
     "text": [
      "Column for this data is from 2011-2023 data of Boston 311 service requests.\n",
      "\n",
      "**location_zipcode (float64):** \n",
      "\n",
      "This column contains 39 unique values: nan, 2131.0, 2136.0, 2130.0, 2122.0, 2125.0, 2127.0, 2116.0, 2119.0, 2132.0, 2135.0, 2126.0, 2124.0, 2215.0, 2110.0, 2109.0, 2129.0, 2113.0, 2111.0, 2128.0, 2114.0, 2121.0, 2120.0, 2108.0, 2134.0, 2115.0, 2118.0, 2467.0, 2199.0, 2210.0, 2163.0, 2203.0, 2146.0, 2133.0, 2167.0, 2446.0, 2222.0, 2201.0, 2445.0.\n",
      "\n",
      "There are 616680 null values.\n",
      "\n",
      "There are 2106845 non-null values.\n",
      "\n",
      "There are 38 unique values.\n",
      "\n",
      "Here are a few sample values:\n",
      "[nan, 2119.0, nan, 2118.0, 2215.0]\n",
      "\n",
      "\n",
      " This column represents the location zipcode of the case.\n"
     ]
    }
   ],
   "source": [
    "describe_column('location_zipcode', df)"
   ]
  },
  {
   "cell_type": "markdown",
   "metadata": {},
   "source": [
    "### Closed Date"
   ]
  },
  {
   "cell_type": "code",
   "execution_count": 173,
   "metadata": {},
   "outputs": [
    {
     "name": "stdout",
     "output_type": "stream",
     "text": [
      "Column for this data is from 2011-2023 data of Boston 311 service requests.\n",
      "\n",
      "**closed_dt (object):** \n",
      "\n",
      "This column contains a large number of unique values.\n",
      "\n",
      "There are 197632 null values.\n",
      "\n",
      "There are 2525893 non-null values.\n",
      "\n",
      "There are 2453949 unique values.\n",
      "\n",
      "Here are a few sample values:\n",
      "['2021-02-13 14:04:30', '2022-09-15 08:43:31', nan, nan, '2023-09-03 10:06:04']\n",
      "\n",
      "\n",
      " This column represents the date when the case was closed.\n"
     ]
    }
   ],
   "source": [
    "describe_column('closed_dt', df)"
   ]
  },
  {
   "cell_type": "markdown",
   "metadata": {},
   "source": [
    "### Case Title"
   ]
  },
  {
   "cell_type": "code",
   "execution_count": 174,
   "metadata": {},
   "outputs": [
    {
     "name": "stdout",
     "output_type": "stream",
     "text": [
      "Column for this data is from 2011-2023 data of Boston 311 service requests.\n",
      "\n",
      "**case_title (object):** \n",
      "\n",
      "This column contains a large number of unique values.\n",
      "\n",
      "There are 544 null values.\n",
      "\n",
      "There are 2722981 non-null values.\n",
      "\n",
      "There are 27232 unique values.\n",
      "\n",
      "Here are a few sample values:\n",
      "['Unsatisfactory Utilities - Electrical  Plumbing', 'PRINTED : ', 'Request for Pothole Repair', 'Requests for Street Cleaning', 'Requests for Street Cleaning']\n",
      "\n",
      "\n",
      " This column represents the case title of the case.\n"
     ]
    }
   ],
   "source": [
    "describe_column('case_title', df)"
   ]
  },
  {
   "cell_type": "markdown",
   "metadata": {},
   "source": [
    "### Longitude "
   ]
  },
  {
   "cell_type": "code",
   "execution_count": 175,
   "metadata": {},
   "outputs": [
    {
     "name": "stdout",
     "output_type": "stream",
     "text": [
      "Column for this data is from 2011-2023 data of Boston 311 service requests.\n",
      "\n",
      "**longitude (float64):** \n",
      "\n",
      "This column contains a large number of unique values.\n",
      "\n",
      "There are 44128 null values.\n",
      "\n",
      "There are 2679397 non-null values.\n",
      "\n",
      "There are 198854 unique values.\n",
      "\n",
      "Here are a few sample values:\n",
      "[-71.05589050673876, -71.067019464412, -71.14964068935963, -71.05466048898566, -71.06929546870342]\n",
      "\n",
      "\n",
      " This column represents the longitude of the case.\n"
     ]
    }
   ],
   "source": [
    "describe_column('longitude', df)"
   ]
  },
  {
   "cell_type": "markdown",
   "metadata": {},
   "source": [
    "### Queue"
   ]
  },
  {
   "cell_type": "code",
   "execution_count": 176,
   "metadata": {},
   "outputs": [
    {
     "name": "stdout",
     "output_type": "stream",
     "text": [
      "Column for this data is from 2011-2023 data of Boston 311 service requests.\n",
      "\n",
      "**queue (object):** \n",
      "\n",
      "This column contains a large number of unique values.\n",
      "\n",
      "There are 0 null values.\n",
      "\n",
      "There are 2723525 non-null values.\n",
      "\n",
      "There are 181 unique values.\n",
      "\n",
      "Here are a few sample values:\n",
      "['PWDx_Code Enforcement', 'PWDx_Street Light Outages', 'INFO_Mass DCR', 'PWDx_Recycling', 'PWDx_Highway Construction']\n",
      "\n",
      "\n",
      " This column represents the queue of the case.\n"
     ]
    }
   ],
   "source": [
    "describe_column('queue', df)"
   ]
  },
  {
   "cell_type": "markdown",
   "metadata": {},
   "source": [
    "### Geom_4326"
   ]
  },
  {
   "cell_type": "code",
   "execution_count": 177,
   "metadata": {},
   "outputs": [
    {
     "name": "stdout",
     "output_type": "stream",
     "text": [
      "Column for this data is from 2011-2023 data of Boston 311 service requests.\n",
      "\n",
      "**geom_4326 (object):** \n",
      "\n",
      "This column contains a large number of unique values.\n",
      "\n",
      "There are 44128 null values.\n",
      "\n",
      "There are 2679397 non-null values.\n",
      "\n",
      "There are 198927 unique values.\n",
      "\n",
      "Here are a few sample values:\n",
      "['0101000020E610000010FC6892F4C351C033E5CEE231284540', '0101000020E610000066253DC127C251C0AE6F4399F02A4540', '0101000020E6100000043E66CCF9C251C0762BD3FB282B4540', '0101000020E61000008FDFA7A03AC551C0B76B47727D2A4540', '0101000020E61000003272222465C451C0A1A144B71D2E4540']\n",
      "\n",
      "\n",
      " This column represents the geom_4326 of the case.\n"
     ]
    }
   ],
   "source": [
    "describe_column('geom_4326', df)"
   ]
  },
  {
   "cell_type": "markdown",
   "metadata": {},
   "source": [
    "### Case Status"
   ]
  },
  {
   "cell_type": "code",
   "execution_count": 178,
   "metadata": {},
   "outputs": [
    {
     "name": "stdout",
     "output_type": "stream",
     "text": [
      "Column for this data is from 2011-2023 data of Boston 311 service requests.\n",
      "\n",
      "**case_status (object):** \n",
      "\n",
      "This column contains 2 unique values: Closed, Open.\n",
      "\n",
      "There are 0 null values.\n",
      "\n",
      "There are 2723525 non-null values.\n",
      "\n",
      "There are 2 unique values.\n",
      "\n",
      "Here are a few sample values:\n",
      "['Closed', 'Closed', 'Closed', 'Closed', 'Closed']\n",
      "\n",
      "\n",
      " This column represents the case status of the case.\n"
     ]
    }
   ],
   "source": [
    "describe_column('case_status', df)"
   ]
  },
  {
   "cell_type": "markdown",
   "metadata": {},
   "source": [
    "### _ID"
   ]
  },
  {
   "cell_type": "code",
   "execution_count": 179,
   "metadata": {},
   "outputs": [
    {
     "name": "stdout",
     "output_type": "stream",
     "text": [
      "Column for this data is from 2011-2023 data of Boston 311 service requests.\n",
      "\n",
      "**_id (int64):** \n",
      "\n",
      "This column contains a large number of unique values.\n",
      "\n",
      "There are 0 null values.\n",
      "\n",
      "There are 2723525 non-null values.\n",
      "\n",
      "There are 276599 unique values.\n",
      "\n",
      "Here are a few sample values:\n",
      "[153797, 14671, 124400, 251248, 129752]\n",
      "\n",
      "\n",
      " This column represents the id of the case.\n"
     ]
    }
   ],
   "source": [
    "describe_column('_id', df)"
   ]
  },
  {
   "cell_type": "markdown",
   "metadata": {},
   "source": [
    "### Fire District"
   ]
  },
  {
   "cell_type": "code",
   "execution_count": 180,
   "metadata": {},
   "outputs": [
    {
     "name": "stdout",
     "output_type": "stream",
     "text": [
      "Column for this data is from 2011-2023 data of Boston 311 service requests.\n",
      "\n",
      "**fire_district (object):** \n",
      "\n",
      "This column contains 13 unique values: 8, 12, nan, 7, 9, 4, 6, 11, 1, 3,  , 5, 10.\n",
      "\n",
      "There are 5616 null values.\n",
      "\n",
      "There are 2717909 non-null values.\n",
      "\n",
      "There are 12 unique values.\n",
      "\n",
      "Here are a few sample values:\n",
      "['4', '8', '12', '3', '4']\n",
      "\n",
      "\n",
      " This column represents the fire district of the case.\n"
     ]
    }
   ],
   "source": [
    "describe_column('fire_district', df)"
   ]
  }
 ],
 "metadata": {
  "kernelspec": {
   "display_name": "base",
   "language": "python",
   "name": "python3"
  },
  "language_info": {
   "codemirror_mode": {
    "name": "ipython",
    "version": 3
   },
   "file_extension": ".py",
   "mimetype": "text/x-python",
   "name": "python",
   "nbconvert_exporter": "python",
   "pygments_lexer": "ipython3",
   "version": "3.8.8"
  },
  "orig_nbformat": 4
 },
 "nbformat": 4,
 "nbformat_minor": 2
}
